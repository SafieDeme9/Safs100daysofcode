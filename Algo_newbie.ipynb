{
  "nbformat": 4,
  "nbformat_minor": 0,
  "metadata": {
    "colab": {
      "name": "Algo_newbie.ipynb",
      "provenance": [],
      "collapsed_sections": [],
      "toc_visible": true,
      "mount_file_id": "1reb5-qu79r5hEddCUtQqqsX7uN79GGMq",
      "authorship_tag": "ABX9TyMDqpoytXzjO06yrL/ysSXe",
      "include_colab_link": true
    },
    "kernelspec": {
      "name": "python3",
      "display_name": "Python 3"
    },
    "language_info": {
      "name": "python"
    }
  },
  "cells": [
    {
      "cell_type": "markdown",
      "metadata": {
        "id": "view-in-github",
        "colab_type": "text"
      },
      "source": [
        "<a href=\"https://colab.research.google.com/github/SafieDeme9/Safs100daysofcode/blob/main/Algo_newbie.ipynb\" target=\"_parent\"><img src=\"https://colab.research.google.com/assets/colab-badge.svg\" alt=\"Open In Colab\"/></a>"
      ]
    },
    {
      "cell_type": "code",
      "metadata": {
        "id": "yb2NFFBExAea"
      },
      "source": [
        "import pandas as pd\n",
        "\n",
        "df = pd.read_excel('AlgoNewbie.xlsx')\n",
        "print(df)"
      ],
      "execution_count": null,
      "outputs": []
    },
    {
      "cell_type": "code",
      "metadata": {
        "id": "qo5AbninHqlH"
      },
      "source": [
        "df.shape"
      ],
      "execution_count": null,
      "outputs": []
    },
    {
      "cell_type": "code",
      "metadata": {
        "id": "_SYLHfQuHwbz"
      },
      "source": [
        "df.head()"
      ],
      "execution_count": null,
      "outputs": []
    },
    {
      "cell_type": "code",
      "metadata": {
        "colab": {
          "base_uri": "https://localhost:8080/"
        },
        "id": "6VLl_MNtH5es",
        "outputId": "d0e7e44a-302b-487b-f40d-50ebcb5355b7"
      },
      "source": [
        "df['Niveau en programmation']"
      ],
      "execution_count": null,
      "outputs": [
        {
          "output_type": "execute_result",
          "data": {
            "text/plain": [
              "0     Débutant absolu\n",
              "1       Intermédiaire\n",
              "2     Débutant absolu\n",
              "3       Intermédiaire\n",
              "4       Intermédiaire\n",
              "           ...       \n",
              "69           Débutant\n",
              "70      Intermédiaire\n",
              "71      Intermédiaire\n",
              "72           Débutant\n",
              "73           Débutant\n",
              "Name: Niveau en programmation, Length: 74, dtype: object"
            ]
          },
          "metadata": {},
          "execution_count": 8
        }
      ]
    },
    {
      "cell_type": "code",
      "metadata": {
        "id": "VFhgORaZICCb"
      },
      "source": [
        "data = df.drop(['Horodateur','Filière dans laquelle vous avez obtenu ce diplome','Profession','Quels sont les langages de programmation que vous maitrisez ?','Votre lien github','Qu\\'est ce qui vous a poussé à rejoindre le groupe ?','Quelles sont vos attentes ?'], axis = 1)\n",
        "data"
      ],
      "execution_count": null,
      "outputs": []
    },
    {
      "cell_type": "code",
      "metadata": {
        "id": "MIpeRqHll-RV"
      },
      "source": [
        "df1 = data[data[\"Niveau en programmation\"] == \"Débutant\"]\n",
        "df1.to_excel('debutant.xlsx')"
      ],
      "execution_count": null,
      "outputs": []
    },
    {
      "cell_type": "code",
      "metadata": {
        "id": "mkwv90plGX5Z"
      },
      "source": [
        "df2 = data[data[\"Niveau en programmation\"] == \"Débutant\"]\n",
        "df2.to_excel('debutantabsolu.xlsx')"
      ],
      "execution_count": null,
      "outputs": []
    }
  ]
}